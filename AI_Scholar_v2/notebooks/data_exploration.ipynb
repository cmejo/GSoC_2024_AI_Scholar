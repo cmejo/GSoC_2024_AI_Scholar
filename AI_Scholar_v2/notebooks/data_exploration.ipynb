{
  "nbformat": 4,
  "nbformat_minor": 0,
  "metadata": {
    "colab": {
      "provenance": []
    },
    "kernelspec": {
      "name": "python3",
      "display_name": "Python 3"
    },
    "language_info": {
      "name": "python"
    }
  },
  "cells": [
    {
      "cell_type": "code",
      "execution_count": null,
      "metadata": {
        "id": "JwyvB75bajHe"
      },
      "outputs": [],
      "source": []
    },
    {
      "cell_type": "code",
      "source": [],
      "metadata": {
        "id": "WpEcGtjYcDNF"
      },
      "execution_count": null,
      "outputs": []
    },
    {
      "cell_type": "markdown",
      "source": [
        "# data_exploration.ipynb\n",
        "\n",
        "# Install necessary libraries if you haven't already"
      ],
      "metadata": {
        "id": "i613wHQHayMm"
      }
    },
    {
      "cell_type": "code",
      "source": [
        "!pip install matplotlib seaborn wordcloud PyPDF2\n",
        "\n",
        "import os\n",
        "import matplotlib.pyplot as plt\n",
        "import seaborn as sns\n",
        "from wordcloud import WordCloud\n",
        "from PyPDF2 import PdfReader"
      ],
      "metadata": {
        "id": "JA6D7Wm3azPP"
      },
      "execution_count": null,
      "outputs": []
    },
    {
      "cell_type": "markdown",
      "source": [
        "# Load and explore the PDF data\n"
      ],
      "metadata": {
        "id": "09Z0EBJ0a7kZ"
      }
    },
    {
      "cell_type": "code",
      "source": [
        "pdf_folder = '/home/cmejo/arxiv-dataset/pdf'  # adjust the path as necessary\n",
        "\n",
        "def pdf_to_text(pdf_folder):\n",
        "    texts = []\n",
        "    for pdf_file in os.listdir(pdf_folder):\n",
        "        if pdf_file.endswith('.pdf'):\n",
        "            pdf_path = os.path.join(pdf_folder, pdf_file)\n",
        "            reader = PdfReader(pdf_path)\n",
        "            text = ''\n",
        "            for page in reader.pages:\n",
        "                text += page.extract_text()\n",
        "            texts.append({'title': pdf_file, 'text': text})\n",
        "    return texts\n",
        "\n",
        "texts = pdf_to_text(pdf_folder)"
      ],
      "metadata": {
        "id": "cDhHHbsca7uV"
      },
      "execution_count": null,
      "outputs": []
    },
    {
      "cell_type": "markdown",
      "source": [
        "# Basic statistics about the dataset"
      ],
      "metadata": {
        "id": "JP5JDxUGa724"
      }
    },
    {
      "cell_type": "code",
      "source": [
        "num_papers = len(texts)\n",
        "print(f\"Number of research papers: {num_papers}\")"
      ],
      "metadata": {
        "id": "wCr60b5Da7_U"
      },
      "execution_count": null,
      "outputs": []
    },
    {
      "cell_type": "markdown",
      "source": [
        "# Length of each document"
      ],
      "metadata": {
        "id": "BipWat4Xa8Hm"
      }
    },
    {
      "cell_type": "code",
      "source": [
        "doc_lengths = [len(text['text'].split()) for text in texts]\n",
        "print(f\"Average document length: {sum(doc_lengths) / len(doc_lengths):.2f} words\")"
      ],
      "metadata": {
        "id": "yQ3c0kD6a8RC"
      },
      "execution_count": null,
      "outputs": []
    },
    {
      "cell_type": "markdown",
      "source": [
        "# Plotting the distribution of document lengths\n"
      ],
      "metadata": {
        "id": "S1nbjRf6bWdE"
      }
    },
    {
      "cell_type": "code",
      "source": [
        "plt.figure(figsize=(10, 6))\n",
        "sns.histplot(doc_lengths, kde=True)\n",
        "plt.title('Distribution of Document Lengths')\n",
        "plt.xlabel('Number of Words')\n",
        "plt.ylabel('Frequency')\n",
        "plt.show()"
      ],
      "metadata": {
        "id": "B3z2cphvbWlY"
      },
      "execution_count": null,
      "outputs": []
    },
    {
      "cell_type": "markdown",
      "source": [
        "# Word Cloud of the entire dataset"
      ],
      "metadata": {
        "id": "tobkyebobW1r"
      }
    },
    {
      "cell_type": "code",
      "source": [
        "all_text = \" \".join([text['text'] for text in texts])\n",
        "wordcloud = WordCloud(width=800, height=400, background_color='white').generate(all_text)\n",
        "\n",
        "plt.figure(figsize=(10, 6))\n",
        "plt.imshow(wordcloud, interpolation='bilinear')\n",
        "plt.axis('off')\n",
        "plt.title('Word Cloud of Research Papers')\n",
        "plt.show()"
      ],
      "metadata": {
        "id": "cMvzZF5VbW_g"
      },
      "execution_count": null,
      "outputs": []
    },
    {
      "cell_type": "markdown",
      "source": [
        "# Inspect some documents"
      ],
      "metadata": {
        "id": "ekl0o2EJbXID"
      }
    },
    {
      "cell_type": "code",
      "source": [
        "for i, text in enumerate(texts[:3]):\n",
        "    print(f\"\\nDocument {i+1}: {text['title']}\")\n",
        "    print(text['text'][:500])  # Print first 500 characters"
      ],
      "metadata": {
        "id": "kTw6LOikbXRa"
      },
      "execution_count": null,
      "outputs": []
    }
  ]
}
