Use this notebook to demonstrate the chatbot in a Jupyter notebook environment.
